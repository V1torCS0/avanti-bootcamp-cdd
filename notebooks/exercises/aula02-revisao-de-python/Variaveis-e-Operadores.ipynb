{
 "cells": [
  {
   "cell_type": "markdown",
   "metadata": {},
   "source": [
    "1. Variáveis e Operadores"
   ]
  },
  {
   "cell_type": "markdown",
   "metadata": {},
   "source": [
    "a) Crie um programa que leia dois números inteiros e imprima a soma, subtração, mulitpilicação e divisão entre eles"
   ]
  },
  {
   "cell_type": "code",
   "execution_count": null,
   "metadata": {},
   "outputs": [],
   "source": [
    "variableOne, variableTwo = map (int, input (\"Digite dois valores (separados por espaço): \").split())\n",
    "\n",
    "print (f\"\"\"Var_1: {variableOne}, Var_2: {variableTwo}\n",
    "Soma: {variableOne + variableTwo}; Subtração: {variableOne - variableTwo};\n",
    "Multiplicação: {variableOne * variableTwo}; Divisão: {variableOne // variableTwo}\"\"\")"
   ]
  },
  {
   "cell_type": "markdown",
   "metadata": {},
   "source": [
    "b) Escreva um programa que calcule a área de um círculo, solicitando o raio do usuário"
   ]
  },
  {
   "cell_type": "code",
   "execution_count": null,
   "metadata": {},
   "outputs": [],
   "source": [
    "radius = float (input (\"Digite o raio do disco: \"))\n",
    "PI = 3.14\n",
    "areaDisk = PI*(radius**2)\n",
    "\n",
    "print (\"O valor da área do disco é {:.2f}\".format(areaDisk))"
   ]
  }
 ],
 "metadata": {
  "kernelspec": {
   "display_name": "Python 3",
   "language": "python",
   "name": "python3"
  },
  "language_info": {
   "codemirror_mode": {
    "name": "ipython",
    "version": 3
   },
   "file_extension": ".py",
   "mimetype": "text/x-python",
   "name": "python",
   "nbconvert_exporter": "python",
   "pygments_lexer": "ipython3",
   "version": "3.11.5"
  },
  "orig_nbformat": 4
 },
 "nbformat": 4,
 "nbformat_minor": 2
}
