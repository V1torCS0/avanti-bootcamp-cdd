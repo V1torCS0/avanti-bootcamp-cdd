{
 "cells": [
  {
   "cell_type": "markdown",
   "metadata": {},
   "source": [
    "3. Coleções (Tuplas, Listas, Conjuntos)"
   ]
  },
  {
   "cell_type": "markdown",
   "metadata": {},
   "source": [
    "a) Escreva um programa que crie uma lista de 5 números inteiros e imprima os elementos dessa lista."
   ]
  },
  {
   "cell_type": "code",
   "execution_count": null,
   "metadata": {},
   "outputs": [],
   "source": [
    "import random as rd\n",
    "\n",
    "intList = [rd.randint(0, 100) for number in range (5)]\n",
    "\n",
    "print (\"Impressão de elementos pelos índices:\")\n",
    "for index, element in enumerate (intList):\n",
    "\n",
    "    print (f\"{index}: {element}\")"
   ]
  },
  {
   "cell_type": "markdown",
   "metadata": {},
   "source": [
    "b) Crie uma tupla com os nomes de alguns animais. Em seguida, peça ao usuário para digitar o nome de um animal e verifique se ele está presente na tupla."
   ]
  },
  {
   "cell_type": "code",
   "execution_count": null,
   "metadata": {},
   "outputs": [],
   "source": [
    "animalsTuple = (\"Cachorro\", \"Gato\", \"Papagaio\", \"Hamster\", \"Vaca\",\n",
    "                \"Ovelha\", \"Galinha\", \"Lobo\", \"Urso\", \"Leão\", \"Coruja\")\n",
    "\n",
    "lastAnimal = animalsTuple[len (animalsTuple) - 1]\n",
    "animalName = input (\"Digite o nome do animal que deseja consultar na tupla: \")\n",
    "\n",
    "if animalName in animalsTuple:\n",
    "    print (\"Animal existente na tupla.\")\n",
    "\n",
    "else:\n",
    "    print (\"Este animal não consta na tupla.\")"
   ]
  }
 ],
 "metadata": {
  "language_info": {
   "name": "python"
  },
  "orig_nbformat": 4
 },
 "nbformat": 4,
 "nbformat_minor": 2
}
