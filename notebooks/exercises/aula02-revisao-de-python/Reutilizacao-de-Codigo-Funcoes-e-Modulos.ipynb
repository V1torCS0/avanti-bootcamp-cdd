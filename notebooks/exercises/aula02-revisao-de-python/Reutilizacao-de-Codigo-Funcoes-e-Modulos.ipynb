{
 "cells": [
  {
   "cell_type": "markdown",
   "metadata": {},
   "source": [
    "4. Reutilização de Código (Funções e Módulos)"
   ]
  },
  {
   "cell_type": "markdown",
   "metadata": {},
   "source": [
    "a) Escreva uma função que receba o nome de uma pessoa como argumento e imprima uma mensagem de saudação."
   ]
  },
  {
   "cell_type": "code",
   "execution_count": null,
   "metadata": {},
   "outputs": [],
   "source": [
    "def salutation (name):\n",
    "\n",
    "    print (f\"Olá, {name}!\")\n",
    "\n",
    "nameInput = input (\"Digite seu nome: \")\n",
    "salutation (nameInput)"
   ]
  },
  {
   "cell_type": "markdown",
   "metadata": {},
   "source": [
    "b) Implemente um módulo contendo uma função que verifique se um número é primo."
   ]
  },
  {
   "cell_type": "code",
   "execution_count": 1,
   "metadata": {},
   "outputs": [],
   "source": [
    "#módulo da função => module.py\n",
    "\n",
    "def primalityTest (number):\n",
    "\n",
    "    divisible = True\n",
    "\n",
    "    if (number > 1):\n",
    "\n",
    "        dividers = []\n",
    "\n",
    "        for divisor in range (2, int(number**(1/2)) + 1):\n",
    "            if (number % divisor == 0):\n",
    "                dividers.append (divisor)\n",
    "\n",
    "        if (len (dividers) == 0):\n",
    "            divisible = False\n",
    "\n",
    "    return divisible"
   ]
  },
  {
   "cell_type": "code",
   "execution_count": null,
   "metadata": {},
   "outputs": [],
   "source": [
    "import module as mod\n",
    "\n",
    "numberTest = int (input (\"Digite um valor para o teste de primalidade: \"))\n",
    "\n",
    "if (mod.primalityTest (numberTest)):\n",
    "    print (f\"{numberTest} não é um número primo.\")\n",
    "else:\n",
    "    print (f\"{numberTest} é um número primo.\")"
   ]
  }
 ],
 "metadata": {
  "kernelspec": {
   "display_name": "Python 3",
   "language": "python",
   "name": "python3"
  },
  "language_info": {
   "codemirror_mode": {
    "name": "ipython",
    "version": 3
   },
   "file_extension": ".py",
   "mimetype": "text/x-python",
   "name": "python",
   "nbconvert_exporter": "python",
   "pygments_lexer": "ipython3",
   "version": "3.11.5"
  },
  "orig_nbformat": 4
 },
 "nbformat": 4,
 "nbformat_minor": 2
}
