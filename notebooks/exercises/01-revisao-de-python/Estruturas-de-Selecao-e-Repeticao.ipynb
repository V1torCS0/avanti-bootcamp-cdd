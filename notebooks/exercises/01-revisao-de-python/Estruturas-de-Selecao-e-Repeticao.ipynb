{
 "cells": [
  {
   "cell_type": "markdown",
   "metadata": {},
   "source": [
    "2. Estruturas de Seleção e Repetição"
   ]
  },
  {
   "cell_type": "markdown",
   "metadata": {},
   "source": [
    "a) Escreva um programa que solicite a idade do usuário e imprima se ele é menor de idade (menor que 18 anos) ou maior de idade"
   ]
  },
  {
   "cell_type": "code",
   "execution_count": null,
   "metadata": {},
   "outputs": [],
   "source": [
    "ageInput = int (input (\"Digite sua idade: \"))\n",
    "\n",
    "if (ageInput >= 18):\n",
    "    print (\"Maior de idade.\")\n",
    "else:\n",
    "    print (\"Menor de idade.\")"
   ]
  },
  {
   "cell_type": "markdown",
   "metadata": {},
   "source": [
    "b) Crie um programa que peça ao usuário para adivinhar um número secreto entre 1 e 100. O programa deve fornecer dicas se o palpite do usuário é maior ou menor que o número secreto, até que ele adivinhe corretamente."
   ]
  },
  {
   "cell_type": "code",
   "execution_count": null,
   "metadata": {},
   "outputs": [],
   "source": [
    "import random as rd\n",
    "randomNumber = rd.randint (1, 100)\n",
    "inputNumber = 0\n",
    "print (\"Estou pensando em um valor entre 1 e 100, tente adivinhar...\")\n",
    "\n",
    "while (inputNumber != randomNumber):\n",
    "    \n",
    "    inputNumber = int (input (\"Digite sua tentativa: \"))\n",
    "\n",
    "    if (inputNumber > randomNumber):\n",
    "        print (\"O valor digitado é maior que o meu número... Tente novamente.\")\n",
    "    \n",
    "    elif (inputNumber < randomNumber):\n",
    "        print (\"O valor digitado é menor que o meu número... Tente novamente.\")\n",
    "    \n",
    "    else:\n",
    "        print (\"Você acertou!\")"
   ]
  }
 ],
 "metadata": {
  "kernelspec": {
   "display_name": "Python 3",
   "language": "python",
   "name": "python3"
  },
  "language_info": {
   "codemirror_mode": {
    "name": "ipython",
    "version": 3
   },
   "file_extension": ".py",
   "mimetype": "text/x-python",
   "name": "python",
   "nbconvert_exporter": "python",
   "pygments_lexer": "ipython3",
   "version": "3.11.5"
  },
  "orig_nbformat": 4
 },
 "nbformat": 4,
 "nbformat_minor": 2
}
