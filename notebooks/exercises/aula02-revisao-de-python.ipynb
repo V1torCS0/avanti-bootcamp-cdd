{
 "cells": [
  {
   "cell_type": "markdown",
   "metadata": {},
   "source": [
    "Tópicos básicos de programação em Python"
   ]
  },
  {
   "cell_type": "markdown",
   "metadata": {},
   "source": [
    "1. Variáveis e Operadores"
   ]
  },
  {
   "cell_type": "markdown",
   "metadata": {},
   "source": [
    "a) Crie um programa que leia dois números inteiros e imprima a soma, subtração, mulitpilicação e divisão entre eles"
   ]
  },
  {
   "cell_type": "code",
   "execution_count": null,
   "metadata": {},
   "outputs": [],
   "source": [
    "variableOne, variableTwo = map (int, input (\"Digite dois valores (separados por espaço): \").split())\n",
    "\n",
    "print (f\"\"\"Var_1: {variableOne}, Var_2: {variableTwo}\n",
    "Soma: {variableOne + variableTwo}; Subtração: {variableOne - variableTwo};\n",
    "Multiplicação: {variableOne * variableTwo}; Divisão: {variableOne // variableTwo}\"\"\")"
   ]
  },
  {
   "cell_type": "markdown",
   "metadata": {},
   "source": [
    "b) Escreva um programa que calcule a área de um círculo, solicitando o raio do usuário"
   ]
  },
  {
   "cell_type": "code",
   "execution_count": null,
   "metadata": {},
   "outputs": [],
   "source": [
    "radius = float (input (\"Digite o raio do disco: \"))\n",
    "PI = 3.14\n",
    "areaDisk = PI*(radius**2)\n",
    "\n",
    "print (\"O valor da área do disco é {:.2f}\".format(areaDisk))"
   ]
  },
  {
   "cell_type": "markdown",
   "metadata": {},
   "source": [
    "2. Estruturas de Seleção e Repetição"
   ]
  },
  {
   "cell_type": "markdown",
   "metadata": {},
   "source": [
    "a) Escreva um programa que solicite a idade do usuário e imprima se ele é menor de idade (menor que 18 anos) ou maior de idade"
   ]
  },
  {
   "cell_type": "code",
   "execution_count": null,
   "metadata": {},
   "outputs": [],
   "source": [
    "ageInput = int (input (\"Digite sua idade: \"))\n",
    "\n",
    "if (ageInput >= 18):\n",
    "    print (\"Maior de idade.\")\n",
    "else:\n",
    "    print (\"Menor de idade.\")"
   ]
  },
  {
   "cell_type": "markdown",
   "metadata": {},
   "source": [
    "b) Crie um programa que peça ao usuário para adivinhar um número secreto entre 1 e 100. O programa deve fornecer dicas se o palpite do usuário é maior ou menor que o número secreto, até que ele adivinhe corretamente."
   ]
  },
  {
   "cell_type": "code",
   "execution_count": null,
   "metadata": {},
   "outputs": [],
   "source": [
    "import random as rd\n",
    "randomNumber = rd.randint (1, 100)\n",
    "inputNumber = 0\n",
    "print (\"Estou pensando em um valor entre 1 e 100, tente adivinhar...\")\n",
    "\n",
    "while (inputNumber != randomNumber):\n",
    "    \n",
    "    inputNumber = int (input (\"Digite sua tentativa: \"))\n",
    "\n",
    "    if (inputNumber > randomNumber):\n",
    "        print (\"O valor digitado é maior que o meu número... Tente novamente.\")\n",
    "    \n",
    "    elif (inputNumber < randomNumber):\n",
    "        print (\"O valor digitado é menor que o meu número... Tente novamente.\")\n",
    "    \n",
    "    else:\n",
    "        print (\"Você acertou!\")"
   ]
  },
  {
   "cell_type": "markdown",
   "metadata": {},
   "source": [
    "3. Coleções (Tuplas, Listas, Conjuntos)"
   ]
  },
  {
   "cell_type": "markdown",
   "metadata": {},
   "source": [
    "a) Escreva um programa que crie uma lista de 5 números inteiros e imprima os elementos dessa lista."
   ]
  },
  {
   "cell_type": "code",
   "execution_count": null,
   "metadata": {},
   "outputs": [],
   "source": [
    "import random as rd\n",
    "\n",
    "intList = [rd.randint(0, 100) for number in range (5)]\n",
    "\n",
    "print (\"Impressão de elementos pelos índices:\")\n",
    "for index, element in enumerate (intList):\n",
    "\n",
    "    print (f\"{index}: {element}\")"
   ]
  },
  {
   "cell_type": "markdown",
   "metadata": {},
   "source": [
    "b) Crie uma tupla com os nomes de alguns animais. Em seguida, peça ao usuário para digitar o nome de um animal e verifique se ele está presente na tupla."
   ]
  },
  {
   "cell_type": "code",
   "execution_count": null,
   "metadata": {},
   "outputs": [],
   "source": [
    "animalsTuple = (\"Cachorro\", \"Gato\", \"Papagaio\", \"Hamster\", \"Vaca\",\n",
    "                \"Ovelha\", \"Galinha\", \"Lobo\", \"Urso\", \"Leão\", \"Coruja\")\n",
    "\n",
    "lastAnimal = animalsTuple[len (animalsTuple) - 1]\n",
    "animalName = input (\"Digite o nome do animal que deseja consultar na tupla: \")\n",
    "\n",
    "if animalName in animalsTuple:\n",
    "    print (\"Animal existente na tupla.\")\n",
    "\n",
    "else:\n",
    "    print (\"Este animal não consta na tupla.\")"
   ]
  },
  {
   "cell_type": "markdown",
   "metadata": {},
   "source": [
    "4. Reutilização de Código (Funções e Módulos)"
   ]
  },
  {
   "cell_type": "markdown",
   "metadata": {},
   "source": [
    "a) Escreva uma função que receba o nome de uma pessoa como argumento e imprima uma mensagem de saudação."
   ]
  },
  {
   "cell_type": "code",
   "execution_count": null,
   "metadata": {},
   "outputs": [],
   "source": [
    "def salutation (name):\n",
    "\n",
    "    print (f\"Olá, {name}!\")\n",
    "\n",
    "nameInput = input (\"Digite seu nome: \")\n",
    "salutation (nameInput)"
   ]
  },
  {
   "cell_type": "markdown",
   "metadata": {},
   "source": [
    "b) Implemente um módulo contendo uma função que verifique se um número é primo."
   ]
  },
  {
   "cell_type": "code",
   "execution_count": 5,
   "metadata": {},
   "outputs": [],
   "source": [
    "#módulo da função\n",
    "\n",
    "def primalityTest (number):\n",
    "\n",
    "    divisible = True\n",
    "\n",
    "    if (number > 1):\n",
    "\n",
    "        dividers = []\n",
    "\n",
    "        for divisor in range (2, int(number**(1/2)) + 1):\n",
    "            if (number % divisor == 0):\n",
    "                dividers.append (divisor)\n",
    "\n",
    "        if (len (dividers) == 0):\n",
    "            divisible = False\n",
    "\n",
    "    return divisible"
   ]
  },
  {
   "cell_type": "code",
   "execution_count": null,
   "metadata": {},
   "outputs": [],
   "source": [
    "import module as mod\n",
    "\n",
    "numberTest = int (input (\"Digite um valor para o teste de primalidade: \"))\n",
    "\n",
    "if (mod.primalityTest (numberTest)):\n",
    "    print (f\"{numberTest} não é um número primo.\")\n",
    "else:\n",
    "    print (f\"{numberTest} é um número primo.\")"
   ]
  }
 ],
 "metadata": {
  "kernelspec": {
   "display_name": "Python 3",
   "language": "python",
   "name": "python3"
  },
  "language_info": {
   "codemirror_mode": {
    "name": "ipython",
    "version": 3
   },
   "file_extension": ".py",
   "mimetype": "text/x-python",
   "name": "python",
   "nbconvert_exporter": "python",
   "pygments_lexer": "ipython3",
   "version": "3.11.5"
  },
  "orig_nbformat": 4
 },
 "nbformat": 4,
 "nbformat_minor": 2
}
