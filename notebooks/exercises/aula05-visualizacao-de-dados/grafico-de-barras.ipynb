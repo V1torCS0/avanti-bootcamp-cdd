{
 "cells": [
  {
   "cell_type": "markdown",
   "metadata": {},
   "source": [
    "Prática de aula (Entendimento de dados)"
   ]
  },
  {
   "cell_type": "markdown",
   "metadata": {},
   "source": [
    "Visualização #01 - Criar um gráfico de barras simples para visualizar a arrecadação total para o conjunto de arrecadação de filmes."
   ]
  },
  {
   "cell_type": "markdown",
   "metadata": {},
   "source": [
    "Importação de Bibliotecas (Pandas, Matplotlib e Seaborn)"
   ]
  },
  {
   "cell_type": "code",
   "execution_count": 2,
   "metadata": {},
   "outputs": [],
   "source": [
    "#adotando um alias para cada um\n",
    "import pandas as pd \n",
    "import seaborn as sns\n",
    "from matplotlib import pyplot as plt"
   ]
  },
  {
   "cell_type": "markdown",
   "metadata": {},
   "source": [
    "Carregando Conjunto de Dados"
   ]
  },
  {
   "cell_type": "code",
   "execution_count": 3,
   "metadata": {},
   "outputs": [
    {
     "data": {
      "text/html": [
       "<div>\n",
       "<style scoped>\n",
       "    .dataframe tbody tr th:only-of-type {\n",
       "        vertical-align: middle;\n",
       "    }\n",
       "\n",
       "    .dataframe tbody tr th {\n",
       "        vertical-align: top;\n",
       "    }\n",
       "\n",
       "    .dataframe thead th {\n",
       "        text-align: right;\n",
       "    }\n",
       "</style>\n",
       "<table border=\"1\" class=\"dataframe\">\n",
       "  <thead>\n",
       "    <tr style=\"text-align: right;\">\n",
       "      <th></th>\n",
       "      <th>arrecadacao</th>\n",
       "      <th>titulo</th>\n",
       "    </tr>\n",
       "  </thead>\n",
       "  <tbody>\n",
       "    <tr>\n",
       "      <th>0</th>\n",
       "      <td>7316746</td>\n",
       "      <td>Ferdinand</td>\n",
       "    </tr>\n",
       "    <tr>\n",
       "      <th>1</th>\n",
       "      <td>36169328</td>\n",
       "      <td>Jumanji: Welcome to the Jungle</td>\n",
       "    </tr>\n",
       "    <tr>\n",
       "      <th>2</th>\n",
       "      <td>19928525</td>\n",
       "      <td>Pitch Perfect 3</td>\n",
       "    </tr>\n",
       "    <tr>\n",
       "      <th>3</th>\n",
       "      <td>71565498</td>\n",
       "      <td>Star Wars: The Last Jedi</td>\n",
       "    </tr>\n",
       "    <tr>\n",
       "      <th>4</th>\n",
       "      <td>8805843</td>\n",
       "      <td>The Greatest Showman</td>\n",
       "    </tr>\n",
       "  </tbody>\n",
       "</table>\n",
       "</div>"
      ],
      "text/plain": [
       "   arrecadacao                          titulo\n",
       "0      7316746                       Ferdinand\n",
       "1     36169328  Jumanji: Welcome to the Jungle\n",
       "2     19928525                 Pitch Perfect 3\n",
       "3     71565498        Star Wars: The Last Jedi\n",
       "4      8805843            The Greatest Showman"
      ]
     },
     "execution_count": 3,
     "metadata": {},
     "output_type": "execute_result"
    }
   ],
   "source": [
    "#Carregar conjunto de dados\n",
    "df_filmes = pd.read_csv (\n",
    "    'https://gist.githubusercontent.com/omadson/770934cb0df9e2d2c3e8db031f1139a5/raw/4d181efc035b327d9d66256915951384517c603e/arrecadacao.csv'\n",
    "    )\n",
    "df_filmes.head()"
   ]
  },
  {
   "cell_type": "markdown",
   "metadata": {},
   "source": [
    "Preparando Visualização de Dados"
   ]
  },
  {
   "cell_type": "code",
   "execution_count": 4,
   "metadata": {},
   "outputs": [],
   "source": [
    "#Utilizando valores simples\n",
    "df_filmes = df_filmes.assign (arrecadacao_milhao = df_filmes.arrecadacao / 1000000)"
   ]
  },
  {
   "cell_type": "code",
   "execution_count": 5,
   "metadata": {},
   "outputs": [],
   "source": [
    "#Ordenando os dados por arrecadação\n",
    "df_filmes = df_filmes.sort_values (by= 'arrecadacao', ascending= False)"
   ]
  },
  {
   "cell_type": "code",
   "execution_count": 6,
   "metadata": {},
   "outputs": [],
   "source": [
    "#Formatando com linhas verticais\n",
    "sns.set_style (\"whitegrid\")"
   ]
  },
  {
   "cell_type": "code",
   "execution_count": 1,
   "metadata": {},
   "outputs": [
    {
     "ename": "NameError",
     "evalue": "name 'plt' is not defined",
     "output_type": "error",
     "traceback": [
      "\u001b[1;31m---------------------------------------------------------------------------\u001b[0m",
      "\u001b[1;31mNameError\u001b[0m                                 Traceback (most recent call last)",
      "Cell \u001b[1;32mIn[1], line 2\u001b[0m\n\u001b[0;32m      1\u001b[0m \u001b[39m#Estilização de barras (mesmas cores e horizontais)\u001b[39;00m\n\u001b[1;32m----> 2\u001b[0m plt\u001b[39m.\u001b[39mfigure (figsize\u001b[39m=\u001b[39m (\u001b[39m5\u001b[39m,\u001b[39m2\u001b[39m))\n\u001b[0;32m      3\u001b[0m grafico \u001b[39m=\u001b[39m sns\u001b[39m.\u001b[39mbarplot (data\u001b[39m=\u001b[39m df_filmes, x\u001b[39m=\u001b[39m \u001b[39m'\u001b[39m\u001b[39marrecadacao_milhao\u001b[39m\u001b[39m'\u001b[39m, y\u001b[39m=\u001b[39m \u001b[39m'\u001b[39m\u001b[39mtitulo\u001b[39m\u001b[39m'\u001b[39m, color\u001b[39m=\u001b[39m \u001b[39m'\u001b[39m\u001b[39mtomato\u001b[39m\u001b[39m'\u001b[39m)\n\u001b[0;32m      5\u001b[0m \u001b[39m#Adicionando valores às barras\u001b[39;00m\n",
      "\u001b[1;31mNameError\u001b[0m: name 'plt' is not defined"
     ]
    }
   ],
   "source": [
    "#Estilização de barras (mesmas cores e horizontais)\n",
    "plt.figure (figsize= (5,2))\n",
    "grafico = sns.barplot (data= df_filmes, x= 'arrecadacao_milhao', y= 'titulo', color= 'tomato')\n",
    "\n",
    "#Adicionando valores às barras\n",
    "grafico.bar_label (\n",
    "    grafico.containers[0],\n",
    "    fmt= '%.1f',\n",
    "    label_type= 'center',\n",
    "    color='white'\n",
    ")\n",
    "\n",
    "#Melhorando a descrição\n",
    "plt.xlabel ('Arrecadação (Milhões de dólares)')\n",
    "plt.ylabel ('Filme')\n",
    "plt.title (\"Arrecadação de filmes\")\n",
    "\n",
    "#Por fim, removendo excessos\n",
    "grafico.set (frame_on=False)\n",
    "grafico.axvline (0, color= 'k', clip_on= False)\n",
    "\n",
    "plt.show ()"
   ]
  }
 ],
 "metadata": {
  "kernelspec": {
   "display_name": "Python 3",
   "language": "python",
   "name": "python3"
  },
  "language_info": {
   "codemirror_mode": {
    "name": "ipython",
    "version": 3
   },
   "file_extension": ".py",
   "mimetype": "text/x-python",
   "name": "python",
   "nbconvert_exporter": "python",
   "pygments_lexer": "ipython3",
   "version": "3.11.5"
  },
  "orig_nbformat": 4
 },
 "nbformat": 4,
 "nbformat_minor": 2
}
